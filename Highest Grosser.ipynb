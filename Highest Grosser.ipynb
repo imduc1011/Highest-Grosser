{
 "cells": [
  {
   "cell_type": "markdown",
   "id": "25a76a63",
   "metadata": {},
   "source": [
    "# Day 2 (29/12/2021)"
   ]
  },
  {
   "cell_type": "code",
   "execution_count": 2,
   "id": "502bf4dc",
   "metadata": {},
   "outputs": [],
   "source": [
    "#import library\n",
    "\n",
    "import pandas as pd\n",
    "import numpy as np \n",
    "import matplotlib.pyplot as plt"
   ]
  },
  {
   "cell_type": "code",
   "execution_count": 3,
   "id": "41f43796",
   "metadata": {},
   "outputs": [
    {
     "data": {
      "text/html": [
       "<div>\n",
       "<style scoped>\n",
       "    .dataframe tbody tr th:only-of-type {\n",
       "        vertical-align: middle;\n",
       "    }\n",
       "\n",
       "    .dataframe tbody tr th {\n",
       "        vertical-align: top;\n",
       "    }\n",
       "\n",
       "    .dataframe thead th {\n",
       "        text-align: right;\n",
       "    }\n",
       "</style>\n",
       "<table border=\"1\" class=\"dataframe\">\n",
       "  <thead>\n",
       "    <tr style=\"text-align: right;\">\n",
       "      <th></th>\n",
       "      <th>YEAR</th>\n",
       "      <th>MOVIE</th>\n",
       "      <th>GENRE</th>\n",
       "      <th>MPAA RATING</th>\n",
       "      <th>DISTRIBUTOR</th>\n",
       "      <th>TOTAL FOR YEAR</th>\n",
       "      <th>TOTAL IN 2019 DOLLARS</th>\n",
       "      <th>TICKETS SOLD</th>\n",
       "    </tr>\n",
       "  </thead>\n",
       "  <tbody>\n",
       "    <tr>\n",
       "      <th>0</th>\n",
       "      <td>1995</td>\n",
       "      <td>Batman Forever</td>\n",
       "      <td>Drama</td>\n",
       "      <td>PG-13</td>\n",
       "      <td>Warner Bros.</td>\n",
       "      <td>$184,031,112</td>\n",
       "      <td>$387,522,978</td>\n",
       "      <td>4,23,06,002</td>\n",
       "    </tr>\n",
       "    <tr>\n",
       "      <th>1</th>\n",
       "      <td>1996</td>\n",
       "      <td>Independence Day</td>\n",
       "      <td>Adventure</td>\n",
       "      <td>PG-13</td>\n",
       "      <td>20th Century Fox</td>\n",
       "      <td>$306,169,255</td>\n",
       "      <td>$634,504,608</td>\n",
       "      <td>6,92,69,062</td>\n",
       "    </tr>\n",
       "    <tr>\n",
       "      <th>2</th>\n",
       "      <td>1997</td>\n",
       "      <td>Men in Black</td>\n",
       "      <td>Adventure</td>\n",
       "      <td>PG-13</td>\n",
       "      <td>Sony Pictures</td>\n",
       "      <td>$250,650,052</td>\n",
       "      <td>$500,207,943</td>\n",
       "      <td>5,46,07,854</td>\n",
       "    </tr>\n",
       "    <tr>\n",
       "      <th>3</th>\n",
       "      <td>1998</td>\n",
       "      <td>Titanic</td>\n",
       "      <td>Adventure</td>\n",
       "      <td>PG-13</td>\n",
       "      <td>Paramount Pictures</td>\n",
       "      <td>$443,319,081</td>\n",
       "      <td>$865,842,808</td>\n",
       "      <td>9,45,24,324</td>\n",
       "    </tr>\n",
       "    <tr>\n",
       "      <th>4</th>\n",
       "      <td>1999</td>\n",
       "      <td>Star Wars Ep. I: The Phantom Menace</td>\n",
       "      <td>Adventure</td>\n",
       "      <td>PG</td>\n",
       "      <td>20th Century Fox</td>\n",
       "      <td>$430,443,350</td>\n",
       "      <td>$776,153,749</td>\n",
       "      <td>8,47,32,942</td>\n",
       "    </tr>\n",
       "    <tr>\n",
       "      <th>5</th>\n",
       "      <td>2000</td>\n",
       "      <td>How the Grinch Stole Christmas</td>\n",
       "      <td>Adventure</td>\n",
       "      <td>PG</td>\n",
       "      <td>Universal</td>\n",
       "      <td>$253,367,455</td>\n",
       "      <td>$430,583,644</td>\n",
       "      <td>4,70,06,948</td>\n",
       "    </tr>\n",
       "    <tr>\n",
       "      <th>6</th>\n",
       "      <td>2001</td>\n",
       "      <td>Harry Potter and the Sorcerer’s Stone</td>\n",
       "      <td>Adventure</td>\n",
       "      <td>PG</td>\n",
       "      <td>Warner Bros.</td>\n",
       "      <td>$300,404,434</td>\n",
       "      <td>$486,166,890</td>\n",
       "      <td>5,30,74,988</td>\n",
       "    </tr>\n",
       "    <tr>\n",
       "      <th>7</th>\n",
       "      <td>2002</td>\n",
       "      <td>Spider-Man</td>\n",
       "      <td>Adventure</td>\n",
       "      <td>PG-13</td>\n",
       "      <td>Sony Pictures</td>\n",
       "      <td>$403,706,375</td>\n",
       "      <td>$636,480,273</td>\n",
       "      <td>6,94,84,746</td>\n",
       "    </tr>\n",
       "    <tr>\n",
       "      <th>8</th>\n",
       "      <td>2003</td>\n",
       "      <td>Finding Nemo</td>\n",
       "      <td>Adventure</td>\n",
       "      <td>G</td>\n",
       "      <td>Walt Disney</td>\n",
       "      <td>$339,714,367</td>\n",
       "      <td>$516,050,346</td>\n",
       "      <td>5,63,37,374</td>\n",
       "    </tr>\n",
       "    <tr>\n",
       "      <th>9</th>\n",
       "      <td>2004</td>\n",
       "      <td>Shrek 2</td>\n",
       "      <td>Adventure</td>\n",
       "      <td>PG</td>\n",
       "      <td>Dreamworks SKG</td>\n",
       "      <td>$441,226,247</td>\n",
       "      <td>$650,826,473</td>\n",
       "      <td>7,10,50,925</td>\n",
       "    </tr>\n",
       "    <tr>\n",
       "      <th>10</th>\n",
       "      <td>2005</td>\n",
       "      <td>Star Wars Ep. III: Revenge of the Sith</td>\n",
       "      <td>Action</td>\n",
       "      <td>PG-13</td>\n",
       "      <td>20th Century Fox</td>\n",
       "      <td>$380,270,577</td>\n",
       "      <td>$543,413,171</td>\n",
       "      <td>5,93,24,582</td>\n",
       "    </tr>\n",
       "    <tr>\n",
       "      <th>11</th>\n",
       "      <td>2006</td>\n",
       "      <td>Pirates of the Caribbean: Dead Man’s Chest</td>\n",
       "      <td>Action</td>\n",
       "      <td>PG-13</td>\n",
       "      <td>Walt Disney</td>\n",
       "      <td>$423,315,812</td>\n",
       "      <td>$591,995,851</td>\n",
       "      <td>6,46,28,368</td>\n",
       "    </tr>\n",
       "    <tr>\n",
       "      <th>12</th>\n",
       "      <td>2007</td>\n",
       "      <td>Spider-Man 3</td>\n",
       "      <td>Adventure</td>\n",
       "      <td>PG-13</td>\n",
       "      <td>Sony Pictures</td>\n",
       "      <td>$336,530,303</td>\n",
       "      <td>$448,054,878</td>\n",
       "      <td>4,89,14,288</td>\n",
       "    </tr>\n",
       "    <tr>\n",
       "      <th>13</th>\n",
       "      <td>2008</td>\n",
       "      <td>The Dark Knight</td>\n",
       "      <td>Adventure</td>\n",
       "      <td>PG-13</td>\n",
       "      <td>Warner Bros.</td>\n",
       "      <td>$531,001,578</td>\n",
       "      <td>$677,433,772</td>\n",
       "      <td>7,39,55,652</td>\n",
       "    </tr>\n",
       "    <tr>\n",
       "      <th>14</th>\n",
       "      <td>2009</td>\n",
       "      <td>Transformers: Revenge of the Fallen</td>\n",
       "      <td>Action</td>\n",
       "      <td>PG-13</td>\n",
       "      <td>Paramount Pictures</td>\n",
       "      <td>$402,111,870</td>\n",
       "      <td>$491,112,631</td>\n",
       "      <td>5,36,14,916</td>\n",
       "    </tr>\n",
       "    <tr>\n",
       "      <th>15</th>\n",
       "      <td>2010</td>\n",
       "      <td>Toy Story 3</td>\n",
       "      <td>Action</td>\n",
       "      <td>G</td>\n",
       "      <td>Walt Disney</td>\n",
       "      <td>$415,004,880</td>\n",
       "      <td>$481,805,411</td>\n",
       "      <td>5,25,98,844</td>\n",
       "    </tr>\n",
       "    <tr>\n",
       "      <th>16</th>\n",
       "      <td>2011</td>\n",
       "      <td>Harry Potter and the Deathly Hallows: Part II</td>\n",
       "      <td>Action</td>\n",
       "      <td>PG-13</td>\n",
       "      <td>Warner Bros.</td>\n",
       "      <td>$381,011,219</td>\n",
       "      <td>$440,108,798</td>\n",
       "      <td>4,80,46,812</td>\n",
       "    </tr>\n",
       "    <tr>\n",
       "      <th>17</th>\n",
       "      <td>2012</td>\n",
       "      <td>The Avengers</td>\n",
       "      <td>Adventure</td>\n",
       "      <td>PG-13</td>\n",
       "      <td>Walt Disney</td>\n",
       "      <td>$623,357,910</td>\n",
       "      <td>$717,331,462</td>\n",
       "      <td>7,83,11,295</td>\n",
       "    </tr>\n",
       "    <tr>\n",
       "      <th>18</th>\n",
       "      <td>2013</td>\n",
       "      <td>Iron Man 3</td>\n",
       "      <td>Adventure</td>\n",
       "      <td>PG-13</td>\n",
       "      <td>Walt Disney</td>\n",
       "      <td>$408,992,272</td>\n",
       "      <td>$460,808,016</td>\n",
       "      <td>5,03,06,552</td>\n",
       "    </tr>\n",
       "    <tr>\n",
       "      <th>19</th>\n",
       "      <td>2014</td>\n",
       "      <td>Guardians of the Galaxy</td>\n",
       "      <td>Adventure</td>\n",
       "      <td>PG-13</td>\n",
       "      <td>Walt Disney</td>\n",
       "      <td>$333,055,258</td>\n",
       "      <td>$373,413,235</td>\n",
       "      <td>4,07,65,637</td>\n",
       "    </tr>\n",
       "    <tr>\n",
       "      <th>20</th>\n",
       "      <td>2015</td>\n",
       "      <td>Star Wars Ep. VII: The Force Awakens</td>\n",
       "      <td>Action</td>\n",
       "      <td>PG-13</td>\n",
       "      <td>Walt Disney</td>\n",
       "      <td>$742,208,942</td>\n",
       "      <td>$806,480,887</td>\n",
       "      <td>8,80,43,765</td>\n",
       "    </tr>\n",
       "    <tr>\n",
       "      <th>21</th>\n",
       "      <td>2016</td>\n",
       "      <td>Finding Dory</td>\n",
       "      <td>Action</td>\n",
       "      <td>PG</td>\n",
       "      <td>Walt Disney</td>\n",
       "      <td>$486,295,561</td>\n",
       "      <td>$514,967,322</td>\n",
       "      <td>5,62,19,140</td>\n",
       "    </tr>\n",
       "    <tr>\n",
       "      <th>22</th>\n",
       "      <td>2017</td>\n",
       "      <td>Star Wars Ep. VIII: The Last Jedi</td>\n",
       "      <td>Action</td>\n",
       "      <td>PG-13</td>\n",
       "      <td>Walt Disney</td>\n",
       "      <td>$517,218,368</td>\n",
       "      <td>$528,173,936</td>\n",
       "      <td>5,76,60,910</td>\n",
       "    </tr>\n",
       "    <tr>\n",
       "      <th>23</th>\n",
       "      <td>2018</td>\n",
       "      <td>Black Panther</td>\n",
       "      <td>Action</td>\n",
       "      <td>PG-13</td>\n",
       "      <td>Walt Disney</td>\n",
       "      <td>$700,059,566</td>\n",
       "      <td>$703,901,821</td>\n",
       "      <td>7,68,45,177</td>\n",
       "    </tr>\n",
       "    <tr>\n",
       "      <th>24</th>\n",
       "      <td>2019</td>\n",
       "      <td>Avengers: Endgame</td>\n",
       "      <td>NaN</td>\n",
       "      <td>PG-13</td>\n",
       "      <td>Walt Disney</td>\n",
       "      <td>$858,373,000</td>\n",
       "      <td>$858,373,002</td>\n",
       "      <td>9,37,08,843</td>\n",
       "    </tr>\n",
       "    <tr>\n",
       "      <th>25</th>\n",
       "      <td>2020</td>\n",
       "      <td>Bad Boys For Life</td>\n",
       "      <td>NaN</td>\n",
       "      <td>R</td>\n",
       "      <td>Sony Pictures</td>\n",
       "      <td>$204,417,855</td>\n",
       "      <td>$204,417,848</td>\n",
       "      <td>2,23,16,359</td>\n",
       "    </tr>\n",
       "    <tr>\n",
       "      <th>26</th>\n",
       "      <td>2021</td>\n",
       "      <td>Shang-Chi and the Legend of the Ten Rings</td>\n",
       "      <td>NaN</td>\n",
       "      <td>PG-13</td>\n",
       "      <td>Walt Disney</td>\n",
       "      <td>$224,226,704</td>\n",
       "      <td>$224,226,704</td>\n",
       "      <td>2,44,78,897</td>\n",
       "    </tr>\n",
       "  </tbody>\n",
       "</table>\n",
       "</div>"
      ],
      "text/plain": [
       "    YEAR                                          MOVIE      GENRE  \\\n",
       "0   1995                                 Batman Forever      Drama   \n",
       "1   1996                               Independence Day  Adventure   \n",
       "2   1997                                   Men in Black  Adventure   \n",
       "3   1998                                        Titanic  Adventure   \n",
       "4   1999            Star Wars Ep. I: The Phantom Menace  Adventure   \n",
       "5   2000                 How the Grinch Stole Christmas  Adventure   \n",
       "6   2001          Harry Potter and the Sorcerer’s Stone  Adventure   \n",
       "7   2002                                     Spider-Man  Adventure   \n",
       "8   2003                                   Finding Nemo  Adventure   \n",
       "9   2004                                        Shrek 2  Adventure   \n",
       "10  2005         Star Wars Ep. III: Revenge of the Sith     Action   \n",
       "11  2006     Pirates of the Caribbean: Dead Man’s Chest     Action   \n",
       "12  2007                                   Spider-Man 3  Adventure   \n",
       "13  2008                                The Dark Knight  Adventure   \n",
       "14  2009            Transformers: Revenge of the Fallen     Action   \n",
       "15  2010                                    Toy Story 3     Action   \n",
       "16  2011  Harry Potter and the Deathly Hallows: Part II     Action   \n",
       "17  2012                                   The Avengers  Adventure   \n",
       "18  2013                                     Iron Man 3  Adventure   \n",
       "19  2014                        Guardians of the Galaxy  Adventure   \n",
       "20  2015           Star Wars Ep. VII: The Force Awakens     Action   \n",
       "21  2016                                   Finding Dory     Action   \n",
       "22  2017              Star Wars Ep. VIII: The Last Jedi     Action   \n",
       "23  2018                                  Black Panther     Action   \n",
       "24  2019                              Avengers: Endgame        NaN   \n",
       "25  2020                              Bad Boys For Life        NaN   \n",
       "26  2021      Shang-Chi and the Legend of the Ten Rings        NaN   \n",
       "\n",
       "   MPAA RATING         DISTRIBUTOR TOTAL FOR YEAR TOTAL IN 2019 DOLLARS  \\\n",
       "0        PG-13        Warner Bros.   $184,031,112          $387,522,978   \n",
       "1        PG-13    20th Century Fox   $306,169,255          $634,504,608   \n",
       "2        PG-13       Sony Pictures   $250,650,052          $500,207,943   \n",
       "3        PG-13  Paramount Pictures   $443,319,081          $865,842,808   \n",
       "4           PG    20th Century Fox   $430,443,350          $776,153,749   \n",
       "5           PG           Universal   $253,367,455          $430,583,644   \n",
       "6           PG        Warner Bros.   $300,404,434          $486,166,890   \n",
       "7        PG-13       Sony Pictures   $403,706,375          $636,480,273   \n",
       "8            G         Walt Disney   $339,714,367          $516,050,346   \n",
       "9           PG      Dreamworks SKG   $441,226,247          $650,826,473   \n",
       "10       PG-13    20th Century Fox   $380,270,577          $543,413,171   \n",
       "11       PG-13         Walt Disney   $423,315,812          $591,995,851   \n",
       "12       PG-13       Sony Pictures   $336,530,303          $448,054,878   \n",
       "13       PG-13        Warner Bros.   $531,001,578          $677,433,772   \n",
       "14       PG-13  Paramount Pictures   $402,111,870          $491,112,631   \n",
       "15           G         Walt Disney   $415,004,880          $481,805,411   \n",
       "16       PG-13        Warner Bros.   $381,011,219          $440,108,798   \n",
       "17       PG-13         Walt Disney   $623,357,910          $717,331,462   \n",
       "18       PG-13         Walt Disney   $408,992,272          $460,808,016   \n",
       "19       PG-13         Walt Disney   $333,055,258          $373,413,235   \n",
       "20       PG-13         Walt Disney   $742,208,942          $806,480,887   \n",
       "21          PG         Walt Disney   $486,295,561          $514,967,322   \n",
       "22       PG-13         Walt Disney   $517,218,368          $528,173,936   \n",
       "23       PG-13         Walt Disney   $700,059,566          $703,901,821   \n",
       "24       PG-13         Walt Disney   $858,373,000          $858,373,002   \n",
       "25           R       Sony Pictures   $204,417,855          $204,417,848   \n",
       "26       PG-13         Walt Disney   $224,226,704          $224,226,704   \n",
       "\n",
       "   TICKETS SOLD  \n",
       "0   4,23,06,002  \n",
       "1   6,92,69,062  \n",
       "2   5,46,07,854  \n",
       "3   9,45,24,324  \n",
       "4   8,47,32,942  \n",
       "5   4,70,06,948  \n",
       "6   5,30,74,988  \n",
       "7   6,94,84,746  \n",
       "8   5,63,37,374  \n",
       "9   7,10,50,925  \n",
       "10  5,93,24,582  \n",
       "11  6,46,28,368  \n",
       "12  4,89,14,288  \n",
       "13  7,39,55,652  \n",
       "14  5,36,14,916  \n",
       "15  5,25,98,844  \n",
       "16  4,80,46,812  \n",
       "17  7,83,11,295  \n",
       "18  5,03,06,552  \n",
       "19  4,07,65,637  \n",
       "20  8,80,43,765  \n",
       "21  5,62,19,140  \n",
       "22  5,76,60,910  \n",
       "23  7,68,45,177  \n",
       "24  9,37,08,843  \n",
       "25  2,23,16,359  \n",
       "26  2,44,78,897  "
      ]
     },
     "execution_count": 3,
     "metadata": {},
     "output_type": "execute_result"
    }
   ],
   "source": [
    "#import dataset\n",
    "\n",
    "highestgrosser = pd.read_csv(\"E:/Python/Film/HighestGrossers.csv\")\n",
    "highestgrosser"
   ]
  },
  {
   "cell_type": "markdown",
   "id": "f1d79b29",
   "metadata": {},
   "source": [
    "## Phase 1: Clean data"
   ]
  },
  {
   "cell_type": "code",
   "execution_count": 4,
   "id": "e871f957",
   "metadata": {},
   "outputs": [
    {
     "data": {
      "text/plain": [
       "YEAR                      int64\n",
       "MOVIE                    object\n",
       "GENRE                    object\n",
       "MPAA RATING              object\n",
       "DISTRIBUTOR              object\n",
       "TOTAL FOR YEAR           object\n",
       "TOTAL IN 2019 DOLLARS    object\n",
       "TICKETS SOLD             object\n",
       "dtype: object"
      ]
     },
     "execution_count": 4,
     "metadata": {},
     "output_type": "execute_result"
    }
   ],
   "source": [
    "#data type\n",
    "\n",
    "highestgrosser.dtypes"
   ]
  },
  {
   "cell_type": "code",
   "execution_count": 5,
   "id": "4a1c653d",
   "metadata": {},
   "outputs": [
    {
     "data": {
      "text/plain": [
       "3"
      ]
     },
     "execution_count": 5,
     "metadata": {},
     "output_type": "execute_result"
    }
   ],
   "source": [
    "#calculate NaN value\n",
    "\n",
    "highestgrosser[\"GENRE\"].isnull().sum()"
   ]
  },
  {
   "cell_type": "code",
   "execution_count": 6,
   "id": "7890a16b",
   "metadata": {},
   "outputs": [],
   "source": [
    "#replace Nan\n",
    "\n",
    "highestgrosser[\"GENRE\"].fillna(\"Action\", inplace = True)"
   ]
  },
  {
   "cell_type": "code",
   "execution_count": 7,
   "id": "ae97b46a",
   "metadata": {},
   "outputs": [],
   "source": [
    "#remove \"$\" column \"TOTAL FOR YEAR\"\n",
    "\n",
    "highestgrosser[\"TOTAL FOR YEAR\"] = highestgrosser[\"TOTAL FOR YEAR\"].str.replace(\"$\", \"\", regex = False)"
   ]
  },
  {
   "cell_type": "code",
   "execution_count": 8,
   "id": "20082e2d",
   "metadata": {},
   "outputs": [],
   "source": [
    "#remove \"$\" column \"TOTAL IN 2019 DOLLARS\"\n",
    "\n",
    "highestgrosser[\"TOTAL IN 2019 DOLLARS\"] = highestgrosser[\"TOTAL IN 2019 DOLLARS\"].str.replace(\"$\", \"\", regex = False)"
   ]
  },
  {
   "cell_type": "code",
   "execution_count": 9,
   "id": "9d775cf4",
   "metadata": {},
   "outputs": [],
   "source": [
    "#remove \",\" column \"TICKETS SOLD\" and change to \"int64\"\n",
    "\n",
    "highestgrosser[\"TICKETS SOLD\"] = highestgrosser[\"TICKETS SOLD\"].str.replace(\",\", \"\", regex = False).astype(\"int64\")"
   ]
  },
  {
   "cell_type": "code",
   "execution_count": 10,
   "id": "c3351f8c",
   "metadata": {},
   "outputs": [],
   "source": [
    "#remove \",\" column \"TOTAL IN 2019 DOLLARS\" and change to \"int64\"\n",
    "\n",
    "highestgrosser[\"TOTAL IN 2019 DOLLARS\"] = highestgrosser[\"TOTAL IN 2019 DOLLARS\"].str.replace(\",\", \"\", regex = False).astype(\"int64\")"
   ]
  },
  {
   "cell_type": "code",
   "execution_count": 11,
   "id": "9f1952b0",
   "metadata": {},
   "outputs": [],
   "source": [
    "#remove \",\" column \"TOTAL FOR YEAR\" and change to \"int64\"\n",
    "\n",
    "highestgrosser[\"TOTAL FOR YEAR\"] = highestgrosser[\"TOTAL FOR YEAR\"].str.replace(\",\", \"\", regex = False).astype(\"int64\")"
   ]
  },
  {
   "cell_type": "code",
   "execution_count": 12,
   "id": "f8a64050",
   "metadata": {},
   "outputs": [
    {
     "data": {
      "text/plain": [
       "YEAR                      int64\n",
       "MOVIE                    object\n",
       "GENRE                    object\n",
       "MPAA RATING              object\n",
       "DISTRIBUTOR              object\n",
       "TOTAL FOR YEAR            int64\n",
       "TOTAL IN 2019 DOLLARS     int64\n",
       "TICKETS SOLD              int64\n",
       "dtype: object"
      ]
     },
     "execution_count": 12,
     "metadata": {},
     "output_type": "execute_result"
    }
   ],
   "source": [
    "#take data type\n",
    "\n",
    "highestgrosser.dtypes"
   ]
  },
  {
   "cell_type": "markdown",
   "id": "79fb77fa",
   "metadata": {},
   "source": [
    "## Phase 2: Analyze"
   ]
  },
  {
   "cell_type": "code",
   "execution_count": 13,
   "id": "98d1f5fd",
   "metadata": {},
   "outputs": [
    {
     "data": {
      "text/html": [
       "<div>\n",
       "<style scoped>\n",
       "    .dataframe tbody tr th:only-of-type {\n",
       "        vertical-align: middle;\n",
       "    }\n",
       "\n",
       "    .dataframe tbody tr th {\n",
       "        vertical-align: top;\n",
       "    }\n",
       "\n",
       "    .dataframe thead th {\n",
       "        text-align: right;\n",
       "    }\n",
       "</style>\n",
       "<table border=\"1\" class=\"dataframe\">\n",
       "  <thead>\n",
       "    <tr style=\"text-align: right;\">\n",
       "      <th></th>\n",
       "      <th>YEAR</th>\n",
       "      <th>MOVIE</th>\n",
       "      <th>GENRE</th>\n",
       "      <th>MPAA RATING</th>\n",
       "      <th>DISTRIBUTOR</th>\n",
       "      <th>TOTAL FOR YEAR</th>\n",
       "      <th>TOTAL IN 2019 DOLLARS</th>\n",
       "      <th>TICKETS SOLD</th>\n",
       "    </tr>\n",
       "  </thead>\n",
       "  <tbody>\n",
       "    <tr>\n",
       "      <th>0</th>\n",
       "      <td>1995</td>\n",
       "      <td>Batman Forever</td>\n",
       "      <td>Drama</td>\n",
       "      <td>PG-13</td>\n",
       "      <td>Warner Bros.</td>\n",
       "      <td>184031112</td>\n",
       "      <td>387522978</td>\n",
       "      <td>42306002</td>\n",
       "    </tr>\n",
       "    <tr>\n",
       "      <th>1</th>\n",
       "      <td>1996</td>\n",
       "      <td>Independence Day</td>\n",
       "      <td>Adventure</td>\n",
       "      <td>PG-13</td>\n",
       "      <td>20th Century Fox</td>\n",
       "      <td>306169255</td>\n",
       "      <td>634504608</td>\n",
       "      <td>69269062</td>\n",
       "    </tr>\n",
       "    <tr>\n",
       "      <th>2</th>\n",
       "      <td>1997</td>\n",
       "      <td>Men in Black</td>\n",
       "      <td>Adventure</td>\n",
       "      <td>PG-13</td>\n",
       "      <td>Sony Pictures</td>\n",
       "      <td>250650052</td>\n",
       "      <td>500207943</td>\n",
       "      <td>54607854</td>\n",
       "    </tr>\n",
       "    <tr>\n",
       "      <th>3</th>\n",
       "      <td>1998</td>\n",
       "      <td>Titanic</td>\n",
       "      <td>Adventure</td>\n",
       "      <td>PG-13</td>\n",
       "      <td>Paramount Pictures</td>\n",
       "      <td>443319081</td>\n",
       "      <td>865842808</td>\n",
       "      <td>94524324</td>\n",
       "    </tr>\n",
       "    <tr>\n",
       "      <th>4</th>\n",
       "      <td>1999</td>\n",
       "      <td>Star Wars Ep. I: The Phantom Menace</td>\n",
       "      <td>Adventure</td>\n",
       "      <td>PG</td>\n",
       "      <td>20th Century Fox</td>\n",
       "      <td>430443350</td>\n",
       "      <td>776153749</td>\n",
       "      <td>84732942</td>\n",
       "    </tr>\n",
       "  </tbody>\n",
       "</table>\n",
       "</div>"
      ],
      "text/plain": [
       "   YEAR                                MOVIE      GENRE MPAA RATING  \\\n",
       "0  1995                       Batman Forever      Drama       PG-13   \n",
       "1  1996                     Independence Day  Adventure       PG-13   \n",
       "2  1997                         Men in Black  Adventure       PG-13   \n",
       "3  1998                              Titanic  Adventure       PG-13   \n",
       "4  1999  Star Wars Ep. I: The Phantom Menace  Adventure          PG   \n",
       "\n",
       "          DISTRIBUTOR  TOTAL FOR YEAR  TOTAL IN 2019 DOLLARS  TICKETS SOLD  \n",
       "0        Warner Bros.       184031112              387522978      42306002  \n",
       "1    20th Century Fox       306169255              634504608      69269062  \n",
       "2       Sony Pictures       250650052              500207943      54607854  \n",
       "3  Paramount Pictures       443319081              865842808      94524324  \n",
       "4    20th Century Fox       430443350              776153749      84732942  "
      ]
     },
     "execution_count": 13,
     "metadata": {},
     "output_type": "execute_result"
    }
   ],
   "source": [
    "highestgrosser.head(5)"
   ]
  },
  {
   "cell_type": "code",
   "execution_count": 14,
   "id": "2bffef2b",
   "metadata": {},
   "outputs": [
    {
     "data": {
      "text/html": [
       "<div>\n",
       "<style scoped>\n",
       "    .dataframe tbody tr th:only-of-type {\n",
       "        vertical-align: middle;\n",
       "    }\n",
       "\n",
       "    .dataframe tbody tr th {\n",
       "        vertical-align: top;\n",
       "    }\n",
       "\n",
       "    .dataframe thead th {\n",
       "        text-align: right;\n",
       "    }\n",
       "</style>\n",
       "<table border=\"1\" class=\"dataframe\">\n",
       "  <thead>\n",
       "    <tr style=\"text-align: right;\">\n",
       "      <th></th>\n",
       "      <th>YEAR</th>\n",
       "      <th>MOVIE</th>\n",
       "      <th>GENRE</th>\n",
       "      <th>MPAA RATING</th>\n",
       "      <th>DISTRIBUTOR</th>\n",
       "      <th>TOTAL FOR YEAR</th>\n",
       "      <th>TOTAL IN 2019 DOLLARS</th>\n",
       "      <th>TICKETS SOLD</th>\n",
       "    </tr>\n",
       "  </thead>\n",
       "  <tbody>\n",
       "    <tr>\n",
       "      <th>24</th>\n",
       "      <td>2019</td>\n",
       "      <td>Avengers: Endgame</td>\n",
       "      <td>Action</td>\n",
       "      <td>PG-13</td>\n",
       "      <td>Walt Disney</td>\n",
       "      <td>858373000</td>\n",
       "      <td>858373002</td>\n",
       "      <td>93708843</td>\n",
       "    </tr>\n",
       "    <tr>\n",
       "      <th>20</th>\n",
       "      <td>2015</td>\n",
       "      <td>Star Wars Ep. VII: The Force Awakens</td>\n",
       "      <td>Action</td>\n",
       "      <td>PG-13</td>\n",
       "      <td>Walt Disney</td>\n",
       "      <td>742208942</td>\n",
       "      <td>806480887</td>\n",
       "      <td>88043765</td>\n",
       "    </tr>\n",
       "    <tr>\n",
       "      <th>23</th>\n",
       "      <td>2018</td>\n",
       "      <td>Black Panther</td>\n",
       "      <td>Action</td>\n",
       "      <td>PG-13</td>\n",
       "      <td>Walt Disney</td>\n",
       "      <td>700059566</td>\n",
       "      <td>703901821</td>\n",
       "      <td>76845177</td>\n",
       "    </tr>\n",
       "    <tr>\n",
       "      <th>17</th>\n",
       "      <td>2012</td>\n",
       "      <td>The Avengers</td>\n",
       "      <td>Adventure</td>\n",
       "      <td>PG-13</td>\n",
       "      <td>Walt Disney</td>\n",
       "      <td>623357910</td>\n",
       "      <td>717331462</td>\n",
       "      <td>78311295</td>\n",
       "    </tr>\n",
       "    <tr>\n",
       "      <th>13</th>\n",
       "      <td>2008</td>\n",
       "      <td>The Dark Knight</td>\n",
       "      <td>Adventure</td>\n",
       "      <td>PG-13</td>\n",
       "      <td>Warner Bros.</td>\n",
       "      <td>531001578</td>\n",
       "      <td>677433772</td>\n",
       "      <td>73955652</td>\n",
       "    </tr>\n",
       "  </tbody>\n",
       "</table>\n",
       "</div>"
      ],
      "text/plain": [
       "    YEAR                                 MOVIE      GENRE MPAA RATING  \\\n",
       "24  2019                     Avengers: Endgame     Action       PG-13   \n",
       "20  2015  Star Wars Ep. VII: The Force Awakens     Action       PG-13   \n",
       "23  2018                         Black Panther     Action       PG-13   \n",
       "17  2012                          The Avengers  Adventure       PG-13   \n",
       "13  2008                       The Dark Knight  Adventure       PG-13   \n",
       "\n",
       "     DISTRIBUTOR  TOTAL FOR YEAR  TOTAL IN 2019 DOLLARS  TICKETS SOLD  \n",
       "24   Walt Disney       858373000              858373002      93708843  \n",
       "20   Walt Disney       742208942              806480887      88043765  \n",
       "23   Walt Disney       700059566              703901821      76845177  \n",
       "17   Walt Disney       623357910              717331462      78311295  \n",
       "13  Warner Bros.       531001578              677433772      73955652  "
      ]
     },
     "execution_count": 14,
     "metadata": {},
     "output_type": "execute_result"
    }
   ],
   "source": [
    "# most TOTAL FOR YEAR\n",
    "\n",
    "total_for_year_top = highestgrosser.sort_values(by = \"TOTAL FOR YEAR\",ascending = False)\n",
    "total_for_year_top.head(5)"
   ]
  },
  {
   "cell_type": "raw",
   "id": "aed9c89f",
   "metadata": {},
   "source": [
    "=> Avengers: Endgame"
   ]
  },
  {
   "cell_type": "code",
   "execution_count": 15,
   "id": "41223b47",
   "metadata": {},
   "outputs": [
    {
     "data": {
      "text/html": [
       "<div>\n",
       "<style scoped>\n",
       "    .dataframe tbody tr th:only-of-type {\n",
       "        vertical-align: middle;\n",
       "    }\n",
       "\n",
       "    .dataframe tbody tr th {\n",
       "        vertical-align: top;\n",
       "    }\n",
       "\n",
       "    .dataframe thead th {\n",
       "        text-align: right;\n",
       "    }\n",
       "</style>\n",
       "<table border=\"1\" class=\"dataframe\">\n",
       "  <thead>\n",
       "    <tr style=\"text-align: right;\">\n",
       "      <th></th>\n",
       "      <th>YEAR</th>\n",
       "      <th>MOVIE</th>\n",
       "      <th>GENRE</th>\n",
       "      <th>MPAA RATING</th>\n",
       "      <th>DISTRIBUTOR</th>\n",
       "      <th>TOTAL FOR YEAR</th>\n",
       "      <th>TOTAL IN 2019 DOLLARS</th>\n",
       "      <th>TICKETS SOLD</th>\n",
       "    </tr>\n",
       "  </thead>\n",
       "  <tbody>\n",
       "    <tr>\n",
       "      <th>3</th>\n",
       "      <td>1998</td>\n",
       "      <td>Titanic</td>\n",
       "      <td>Adventure</td>\n",
       "      <td>PG-13</td>\n",
       "      <td>Paramount Pictures</td>\n",
       "      <td>443319081</td>\n",
       "      <td>865842808</td>\n",
       "      <td>94524324</td>\n",
       "    </tr>\n",
       "    <tr>\n",
       "      <th>24</th>\n",
       "      <td>2019</td>\n",
       "      <td>Avengers: Endgame</td>\n",
       "      <td>Action</td>\n",
       "      <td>PG-13</td>\n",
       "      <td>Walt Disney</td>\n",
       "      <td>858373000</td>\n",
       "      <td>858373002</td>\n",
       "      <td>93708843</td>\n",
       "    </tr>\n",
       "    <tr>\n",
       "      <th>20</th>\n",
       "      <td>2015</td>\n",
       "      <td>Star Wars Ep. VII: The Force Awakens</td>\n",
       "      <td>Action</td>\n",
       "      <td>PG-13</td>\n",
       "      <td>Walt Disney</td>\n",
       "      <td>742208942</td>\n",
       "      <td>806480887</td>\n",
       "      <td>88043765</td>\n",
       "    </tr>\n",
       "    <tr>\n",
       "      <th>4</th>\n",
       "      <td>1999</td>\n",
       "      <td>Star Wars Ep. I: The Phantom Menace</td>\n",
       "      <td>Adventure</td>\n",
       "      <td>PG</td>\n",
       "      <td>20th Century Fox</td>\n",
       "      <td>430443350</td>\n",
       "      <td>776153749</td>\n",
       "      <td>84732942</td>\n",
       "    </tr>\n",
       "    <tr>\n",
       "      <th>17</th>\n",
       "      <td>2012</td>\n",
       "      <td>The Avengers</td>\n",
       "      <td>Adventure</td>\n",
       "      <td>PG-13</td>\n",
       "      <td>Walt Disney</td>\n",
       "      <td>623357910</td>\n",
       "      <td>717331462</td>\n",
       "      <td>78311295</td>\n",
       "    </tr>\n",
       "  </tbody>\n",
       "</table>\n",
       "</div>"
      ],
      "text/plain": [
       "    YEAR                                 MOVIE      GENRE MPAA RATING  \\\n",
       "3   1998                               Titanic  Adventure       PG-13   \n",
       "24  2019                     Avengers: Endgame     Action       PG-13   \n",
       "20  2015  Star Wars Ep. VII: The Force Awakens     Action       PG-13   \n",
       "4   1999   Star Wars Ep. I: The Phantom Menace  Adventure          PG   \n",
       "17  2012                          The Avengers  Adventure       PG-13   \n",
       "\n",
       "           DISTRIBUTOR  TOTAL FOR YEAR  TOTAL IN 2019 DOLLARS  TICKETS SOLD  \n",
       "3   Paramount Pictures       443319081              865842808      94524324  \n",
       "24         Walt Disney       858373000              858373002      93708843  \n",
       "20         Walt Disney       742208942              806480887      88043765  \n",
       "4     20th Century Fox       430443350              776153749      84732942  \n",
       "17         Walt Disney       623357910              717331462      78311295  "
      ]
     },
     "execution_count": 15,
     "metadata": {},
     "output_type": "execute_result"
    }
   ],
   "source": [
    "# most TICKETS SOLD from 1995-2021\n",
    "tickets_sold_top = highestgrosser.sort_values(by = \"TICKETS SOLD\", ascending = False)\n",
    "tickets_sold_top.head(5)"
   ]
  },
  {
   "cell_type": "raw",
   "id": "a799146e",
   "metadata": {},
   "source": [
    "=> Titanic"
   ]
  },
  {
   "cell_type": "markdown",
   "id": "e3232677",
   "metadata": {},
   "source": [
    "### TICKETS SOLD"
   ]
  },
  {
   "cell_type": "code",
   "execution_count": 59,
   "id": "5665c277",
   "metadata": {},
   "outputs": [
    {
     "data": {
      "text/html": [
       "<div>\n",
       "<style scoped>\n",
       "    .dataframe tbody tr th:only-of-type {\n",
       "        vertical-align: middle;\n",
       "    }\n",
       "\n",
       "    .dataframe tbody tr th {\n",
       "        vertical-align: top;\n",
       "    }\n",
       "\n",
       "    .dataframe thead th {\n",
       "        text-align: right;\n",
       "    }\n",
       "</style>\n",
       "<table border=\"1\" class=\"dataframe\">\n",
       "  <thead>\n",
       "    <tr style=\"text-align: right;\">\n",
       "      <th>GENRE</th>\n",
       "      <th>Action</th>\n",
       "      <th>Adventure</th>\n",
       "      <th>Drama</th>\n",
       "    </tr>\n",
       "  </thead>\n",
       "  <tbody>\n",
       "    <tr>\n",
       "      <th>TICKETS SOLD</th>\n",
       "      <td>697486613</td>\n",
       "      <td>892342587</td>\n",
       "      <td>42306002</td>\n",
       "    </tr>\n",
       "  </tbody>\n",
       "</table>\n",
       "</div>"
      ],
      "text/plain": [
       "GENRE            Action  Adventure     Drama\n",
       "TICKETS SOLD  697486613  892342587  42306002"
      ]
     },
     "execution_count": 59,
     "metadata": {},
     "output_type": "execute_result"
    }
   ],
   "source": [
    "#pivot table: by GENRE\n",
    "ts_genre = pd.pivot_table(data = highestgrosser, values = [\"TICKETS SOLD\"], columns = [\"GENRE\"], aggfunc = \"sum\" )\n",
    "ts_genre"
   ]
  },
  {
   "cell_type": "code",
   "execution_count": 46,
   "id": "78f353b0",
   "metadata": {},
   "outputs": [
    {
     "data": {
      "text/html": [
       "<div>\n",
       "<style scoped>\n",
       "    .dataframe tbody tr th:only-of-type {\n",
       "        vertical-align: middle;\n",
       "    }\n",
       "\n",
       "    .dataframe tbody tr th {\n",
       "        vertical-align: top;\n",
       "    }\n",
       "\n",
       "    .dataframe thead th {\n",
       "        text-align: right;\n",
       "    }\n",
       "</style>\n",
       "<table border=\"1\" class=\"dataframe\">\n",
       "  <thead>\n",
       "    <tr style=\"text-align: right;\">\n",
       "      <th></th>\n",
       "      <th>TICKETS SOLD</th>\n",
       "    </tr>\n",
       "    <tr>\n",
       "      <th>MPAA RATING</th>\n",
       "      <th></th>\n",
       "    </tr>\n",
       "  </thead>\n",
       "  <tbody>\n",
       "    <tr>\n",
       "      <th>PG-13</th>\n",
       "      <td>1188797682</td>\n",
       "    </tr>\n",
       "    <tr>\n",
       "      <th>PG</th>\n",
       "      <td>312084943</td>\n",
       "    </tr>\n",
       "    <tr>\n",
       "      <th>G</th>\n",
       "      <td>108936218</td>\n",
       "    </tr>\n",
       "    <tr>\n",
       "      <th>R</th>\n",
       "      <td>22316359</td>\n",
       "    </tr>\n",
       "  </tbody>\n",
       "</table>\n",
       "</div>"
      ],
      "text/plain": [
       "             TICKETS SOLD\n",
       "MPAA RATING              \n",
       "PG-13          1188797682\n",
       "PG              312084943\n",
       "G               108936218\n",
       "R                22316359"
      ]
     },
     "execution_count": 46,
     "metadata": {},
     "output_type": "execute_result"
    }
   ],
   "source": [
    "#pivot table: by MPAA RATING\n",
    "ts_mpaa_rating = pd.pivot_table(data = highestgrosser, values = [\"TICKETS SOLD\"], index = [\"MPAA RATING\"],aggfunc = \"sum\")\n",
    "ts_mpaa_rating.sort_values(by = \"TICKETS SOLD\", ascending = False)"
   ]
  },
  {
   "cell_type": "code",
   "execution_count": 47,
   "id": "3e8d1880",
   "metadata": {},
   "outputs": [
    {
     "data": {
      "text/html": [
       "<div>\n",
       "<style scoped>\n",
       "    .dataframe tbody tr th:only-of-type {\n",
       "        vertical-align: middle;\n",
       "    }\n",
       "\n",
       "    .dataframe tbody tr th {\n",
       "        vertical-align: top;\n",
       "    }\n",
       "\n",
       "    .dataframe thead th {\n",
       "        text-align: right;\n",
       "    }\n",
       "</style>\n",
       "<table border=\"1\" class=\"dataframe\">\n",
       "  <thead>\n",
       "    <tr style=\"text-align: right;\">\n",
       "      <th></th>\n",
       "      <th>TICKETS SOLD</th>\n",
       "    </tr>\n",
       "    <tr>\n",
       "      <th>DISTRIBUTOR</th>\n",
       "      <th></th>\n",
       "    </tr>\n",
       "  </thead>\n",
       "  <tbody>\n",
       "    <tr>\n",
       "      <th>Walt Disney</th>\n",
       "      <td>739904802</td>\n",
       "    </tr>\n",
       "    <tr>\n",
       "      <th>Warner Bros.</th>\n",
       "      <td>217383454</td>\n",
       "    </tr>\n",
       "    <tr>\n",
       "      <th>20th Century Fox</th>\n",
       "      <td>213326586</td>\n",
       "    </tr>\n",
       "    <tr>\n",
       "      <th>Sony Pictures</th>\n",
       "      <td>195323247</td>\n",
       "    </tr>\n",
       "    <tr>\n",
       "      <th>Paramount Pictures</th>\n",
       "      <td>148139240</td>\n",
       "    </tr>\n",
       "    <tr>\n",
       "      <th>Dreamworks SKG</th>\n",
       "      <td>71050925</td>\n",
       "    </tr>\n",
       "    <tr>\n",
       "      <th>Universal</th>\n",
       "      <td>47006948</td>\n",
       "    </tr>\n",
       "  </tbody>\n",
       "</table>\n",
       "</div>"
      ],
      "text/plain": [
       "                    TICKETS SOLD\n",
       "DISTRIBUTOR                     \n",
       "Walt Disney            739904802\n",
       "Warner Bros.           217383454\n",
       "20th Century Fox       213326586\n",
       "Sony Pictures          195323247\n",
       "Paramount Pictures     148139240\n",
       "Dreamworks SKG          71050925\n",
       "Universal               47006948"
      ]
     },
     "execution_count": 47,
     "metadata": {},
     "output_type": "execute_result"
    }
   ],
   "source": [
    "#pivot table: by DISTRIBUTORS\n",
    "ts_distributor = pd.pivot_table(data = highestgrosser, values = [\"TICKETS SOLD\"], index = [\"DISTRIBUTOR\"], aggfunc = \"sum\")\n",
    "ts_distributor.sort_values(by = \"TICKETS SOLD\", ascending = False)"
   ]
  },
  {
   "cell_type": "markdown",
   "id": "d873c6a8",
   "metadata": {},
   "source": [
    "### TOTAL FOR YEAR"
   ]
  },
  {
   "cell_type": "code",
   "execution_count": 48,
   "id": "90e4f7bc",
   "metadata": {},
   "outputs": [
    {
     "data": {
      "text/html": [
       "<div>\n",
       "<style scoped>\n",
       "    .dataframe tbody tr th:only-of-type {\n",
       "        vertical-align: middle;\n",
       "    }\n",
       "\n",
       "    .dataframe tbody tr th {\n",
       "        vertical-align: top;\n",
       "    }\n",
       "\n",
       "    .dataframe thead th {\n",
       "        text-align: right;\n",
       "    }\n",
       "</style>\n",
       "<table border=\"1\" class=\"dataframe\">\n",
       "  <thead>\n",
       "    <tr style=\"text-align: right;\">\n",
       "      <th></th>\n",
       "      <th>TOTAL FOR YEAR</th>\n",
       "    </tr>\n",
       "    <tr>\n",
       "      <th>GENRE</th>\n",
       "      <th></th>\n",
       "    </tr>\n",
       "  </thead>\n",
       "  <tbody>\n",
       "    <tr>\n",
       "      <th>Action</th>\n",
       "      <td>5734514354</td>\n",
       "    </tr>\n",
       "    <tr>\n",
       "      <th>Adventure</th>\n",
       "      <td>5401937937</td>\n",
       "    </tr>\n",
       "    <tr>\n",
       "      <th>Drama</th>\n",
       "      <td>184031112</td>\n",
       "    </tr>\n",
       "  </tbody>\n",
       "</table>\n",
       "</div>"
      ],
      "text/plain": [
       "           TOTAL FOR YEAR\n",
       "GENRE                    \n",
       "Action         5734514354\n",
       "Adventure      5401937937\n",
       "Drama           184031112"
      ]
     },
     "execution_count": 48,
     "metadata": {},
     "output_type": "execute_result"
    }
   ],
   "source": [
    "#pivot table: by GENRE\n",
    "tfy_genre = pd.pivot_table(data = highestgrosser , values = [\"TOTAL FOR YEAR\"], index = [\"GENRE\"], aggfunc = \"sum\")\n",
    "tfy_genre.sort_values(by = \"TOTAL FOR YEAR\", ascending = False)"
   ]
  },
  {
   "cell_type": "code",
   "execution_count": 49,
   "id": "8c31dc09",
   "metadata": {},
   "outputs": [
    {
     "data": {
      "text/html": [
       "<div>\n",
       "<style scoped>\n",
       "    .dataframe tbody tr th:only-of-type {\n",
       "        vertical-align: middle;\n",
       "    }\n",
       "\n",
       "    .dataframe tbody tr th {\n",
       "        vertical-align: top;\n",
       "    }\n",
       "\n",
       "    .dataframe thead th {\n",
       "        text-align: right;\n",
       "    }\n",
       "</style>\n",
       "<table border=\"1\" class=\"dataframe\">\n",
       "  <thead>\n",
       "    <tr style=\"text-align: right;\">\n",
       "      <th></th>\n",
       "      <th>TOTAL FOR YEAR</th>\n",
       "    </tr>\n",
       "    <tr>\n",
       "      <th>MPAA RATING</th>\n",
       "      <th></th>\n",
       "    </tr>\n",
       "  </thead>\n",
       "  <tbody>\n",
       "    <tr>\n",
       "      <th>PG-13</th>\n",
       "      <td>8449609254</td>\n",
       "    </tr>\n",
       "    <tr>\n",
       "      <th>PG</th>\n",
       "      <td>1911737047</td>\n",
       "    </tr>\n",
       "    <tr>\n",
       "      <th>G</th>\n",
       "      <td>754719247</td>\n",
       "    </tr>\n",
       "    <tr>\n",
       "      <th>R</th>\n",
       "      <td>204417855</td>\n",
       "    </tr>\n",
       "  </tbody>\n",
       "</table>\n",
       "</div>"
      ],
      "text/plain": [
       "             TOTAL FOR YEAR\n",
       "MPAA RATING                \n",
       "PG-13            8449609254\n",
       "PG               1911737047\n",
       "G                 754719247\n",
       "R                 204417855"
      ]
     },
     "execution_count": 49,
     "metadata": {},
     "output_type": "execute_result"
    }
   ],
   "source": [
    "#pivot table: by MPAA RATING\n",
    "tfy_mpaa_rating = pd.pivot_table(data = highestgrosser, values = [\"TOTAL FOR YEAR\"], index = [\"MPAA RATING\"], aggfunc = \"sum\")\n",
    "tfy_mpaa_rating.sort_values(by = \"TOTAL FOR YEAR\", ascending = False)"
   ]
  },
  {
   "cell_type": "code",
   "execution_count": 50,
   "id": "5b9c6df4",
   "metadata": {},
   "outputs": [
    {
     "data": {
      "text/html": [
       "<div>\n",
       "<style scoped>\n",
       "    .dataframe tbody tr th:only-of-type {\n",
       "        vertical-align: middle;\n",
       "    }\n",
       "\n",
       "    .dataframe tbody tr th {\n",
       "        vertical-align: top;\n",
       "    }\n",
       "\n",
       "    .dataframe thead th {\n",
       "        text-align: right;\n",
       "    }\n",
       "</style>\n",
       "<table border=\"1\" class=\"dataframe\">\n",
       "  <thead>\n",
       "    <tr style=\"text-align: right;\">\n",
       "      <th></th>\n",
       "      <th>TOTAL FOR YEAR</th>\n",
       "    </tr>\n",
       "    <tr>\n",
       "      <th>DISTRIBUTOR</th>\n",
       "      <th></th>\n",
       "    </tr>\n",
       "  </thead>\n",
       "  <tbody>\n",
       "    <tr>\n",
       "      <th>Walt Disney</th>\n",
       "      <td>6071822640</td>\n",
       "    </tr>\n",
       "    <tr>\n",
       "      <th>Warner Bros.</th>\n",
       "      <td>1396448343</td>\n",
       "    </tr>\n",
       "    <tr>\n",
       "      <th>Sony Pictures</th>\n",
       "      <td>1195304585</td>\n",
       "    </tr>\n",
       "    <tr>\n",
       "      <th>20th Century Fox</th>\n",
       "      <td>1116883182</td>\n",
       "    </tr>\n",
       "    <tr>\n",
       "      <th>Paramount Pictures</th>\n",
       "      <td>845430951</td>\n",
       "    </tr>\n",
       "    <tr>\n",
       "      <th>Dreamworks SKG</th>\n",
       "      <td>441226247</td>\n",
       "    </tr>\n",
       "    <tr>\n",
       "      <th>Universal</th>\n",
       "      <td>253367455</td>\n",
       "    </tr>\n",
       "  </tbody>\n",
       "</table>\n",
       "</div>"
      ],
      "text/plain": [
       "                    TOTAL FOR YEAR\n",
       "DISTRIBUTOR                       \n",
       "Walt Disney             6071822640\n",
       "Warner Bros.            1396448343\n",
       "Sony Pictures           1195304585\n",
       "20th Century Fox        1116883182\n",
       "Paramount Pictures       845430951\n",
       "Dreamworks SKG           441226247\n",
       "Universal                253367455"
      ]
     },
     "execution_count": 50,
     "metadata": {},
     "output_type": "execute_result"
    }
   ],
   "source": [
    "#pivot table: by DISTRIBUTORS\n",
    "tfy_distributor = pd.pivot_table(data = highestgrosser , values = [\"TOTAL FOR YEAR\"], index = [\"DISTRIBUTOR\"], aggfunc = \"sum\")\n",
    "tfy_distributor.sort_values(by = \"TOTAL FOR YEAR\", ascending = False)"
   ]
  },
  {
   "cell_type": "markdown",
   "id": "52c2fae8",
   "metadata": {},
   "source": [
    "## Phase 3: Visualization"
   ]
  },
  {
   "cell_type": "markdown",
   "id": "b9ee4ed4",
   "metadata": {},
   "source": [
    "### TICKETS SOLD "
   ]
  },
  {
   "cell_type": "code",
   "execution_count": 65,
   "id": "b8c1e852",
   "metadata": {},
   "outputs": [
    {
     "data": {
      "text/plain": [
       "(array([0]), [Text(0, 0, 'TICKETS SOLD')])"
      ]
     },
     "execution_count": 65,
     "metadata": {},
     "output_type": "execute_result"
    },
    {
     "data": {
      "image/png": "[encoded data removed]",
      "text/plain": [
       "<Figure size 432x288 with 1 Axes>"
      ]
     },
     "metadata": {
      "needs_background": "light"
     },
     "output_type": "display_data"
    }
   ],
   "source": [
    "#plot tickets sold by GENRE\n",
    "\n",
    "ts_genre_plt = ts_genre.plot(kind = \"bar\", title =\"Tickets Sold by Genre\" )\n",
    "plt.xticks(rotation = 0)"
   ]
  },
  {
   "cell_type": "code",
   "execution_count": 67,
   "id": "e7991ce6",
   "metadata": {},
   "outputs": [
    {
     "data": {
      "text/plain": [
       "(array([0, 1, 2, 3]),\n",
       " [Text(0, 0, 'G'), Text(1, 0, 'PG'), Text(2, 0, 'PG-13'), Text(3, 0, 'R')])"
      ]
     },
     "execution_count": 67,
     "metadata": {},
     "output_type": "execute_result"
    },
    {
     "data": {
      "image/png": "[encoded data removed]",
      "text/plain": [
       "<Figure size 432x288 with 1 Axes>"
      ]
     },
     "metadata": {
      "needs_background": "light"
     },
     "output_type": "display_data"
    }
   ],
   "source": [
    "#plot tickets sold by MPAA RATING\n",
    "\n",
    "ts_mpaa_rating_plot = ts_mpaa_rating.plot(kind = \"bar\", title = \"Tickets Sold by MPAA Rating\")\n",
    "plt.xticks(rotation = 0)"
   ]
  },
  {
   "cell_type": "code",
   "execution_count": 69,
   "id": "491e1cff",
   "metadata": {},
   "outputs": [
    {
     "data": {
      "text/plain": [
       "(array([0, 1, 2, 3, 4, 5, 6]),\n",
       " [Text(0, 0, '20th Century Fox'),\n",
       "  Text(1, 0, 'Dreamworks SKG'),\n",
       "  Text(2, 0, 'Paramount Pictures'),\n",
       "  Text(3, 0, 'Sony Pictures'),\n",
       "  Text(4, 0, 'Universal'),\n",
       "  Text(5, 0, 'Walt Disney'),\n",
       "  Text(6, 0, 'Warner Bros.')])"
      ]
     },
     "execution_count": 69,
     "metadata": {},
     "output_type": "execute_result"
    },
    {
     "data": {
      "image/png": "[encoded data removed]",
      "text/plain": [
       "<Figure size 432x288 with 1 Axes>"
      ]
     },
     "metadata": {
      "needs_background": "light"
     },
     "output_type": "display_data"
    }
   ],
   "source": [
    "#plot tickets sold by DISTRIBUTORS\n",
    "\n",
    "ts_distributor_plot = ts_distributor.plot(kind = \"bar\", title = \"Tickets Sold by Distributors\")\n",
    "plt.xticks(rotation = 45)"
   ]
  },
  {
   "cell_type": "markdown",
   "id": "ee3c7b7d",
   "metadata": {},
   "source": [
    "### TOTAL FOR YEAR"
   ]
  },
  {
   "cell_type": "code",
   "execution_count": 72,
   "id": "182be890",
   "metadata": {},
   "outputs": [
    {
     "data": {
      "text/plain": [
       "(array([0, 1, 2]),\n",
       " [Text(0, 0, 'Action'), Text(1, 0, 'Adventure'), Text(2, 0, 'Drama')])"
      ]
     },
     "execution_count": 72,
     "metadata": {},
     "output_type": "execute_result"
    },
    {
     "data": {
      "image/png": "[encoded data removed]",
      "text/plain": [
       "<Figure size 432x288 with 1 Axes>"
      ]
     },
     "metadata": {
      "needs_background": "light"
     },
     "output_type": "display_data"
    }
   ],
   "source": [
    "#plot total for year by GENRE\n",
    "\n",
    "tfy_genre_plot = tfy_genre.plot(kind = \"bar\", title = \"Total For Year by Genre\")\n",
    "plt.xticks(rotation = 0)"
   ]
  },
  {
   "cell_type": "code",
   "execution_count": 74,
   "id": "221e2082",
   "metadata": {},
   "outputs": [
    {
     "data": {
      "text/plain": [
       "(array([0, 1, 2, 3]),\n",
       " [Text(0, 0, 'G'), Text(1, 0, 'PG'), Text(2, 0, 'PG-13'), Text(3, 0, 'R')])"
      ]
     },
     "execution_count": 74,
     "metadata": {},
     "output_type": "execute_result"
    },
    {
     "data": {
      "image/png": "[encoded data removed]",
      "text/plain": [
       "<Figure size 432x288 with 1 Axes>"
      ]
     },
     "metadata": {
      "needs_background": "light"
     },
     "output_type": "display_data"
    }
   ],
   "source": [
    "#plot total for year by MPAA RATING\n",
    "\n",
    "tfy_mpaa_rating_plot = tfy_mpaa_rating.plot(kind = \"bar\", title = \"Total For Year by MPAA Rating\")\n",
    "plt.xticks(rotation = 0)"
   ]
  },
  {
   "cell_type": "code",
   "execution_count": 78,
   "id": "2808045c",
   "metadata": {},
   "outputs": [
    {
     "data": {
      "text/plain": [
       "(array([0, 1, 2, 3, 4, 5, 6]),\n",
       " [Text(0, 0, '20th Century Fox'),\n",
       "  Text(1, 0, 'Dreamworks SKG'),\n",
       "  Text(2, 0, 'Paramount Pictures'),\n",
       "  Text(3, 0, 'Sony Pictures'),\n",
       "  Text(4, 0, 'Universal'),\n",
       "  Text(5, 0, 'Walt Disney'),\n",
       "  Text(6, 0, 'Warner Bros.')])"
      ]
     },
     "execution_count": 78,
     "metadata": {},
     "output_type": "execute_result"
    },
    {
     "data": {
      "image/png": "[encoded data removed]",
      "text/plain": [
       "<Figure size 432x288 with 1 Axes>"
      ]
     },
     "metadata": {
      "needs_background": "light"
     },
     "output_type": "display_data"
    }
   ],
   "source": [
    "#plot total for year by DISTRIBUTOR\n",
    "\n",
    "tfy_distributor_plot = tfy_distributor.plot(kind = \"bar\", title = \"Total For Year by Distributor\")\n",
    "plt.xticks(rotation = 45)"
   ]
  },
  {
   "cell_type": "code",
   "execution_count": 80,
   "id": "87401dcd",
   "metadata": {},
   "outputs": [],
   "source": [
    "#Finally i finised a 78-line coding file, so tired but totally worthy"
   ]
  }
 ],
 "metadata": {
  "kernelspec": {
   "display_name": "Python 3 (ipykernel)",
   "language": "python",
   "name": "python3"
  },
  "language_info": {
   "codemirror_mode": {
    "name": "ipython",
    "version": 3
   },
   "file_extension": ".py",
   "mimetype": "text/x-python",
   "name": "python",
   "nbconvert_exporter": "python",
   "pygments_lexer": "ipython3",
   "version": "3.9.7"
  }
 },
 "nbformat": 4,
 "nbformat_minor": 5
}
